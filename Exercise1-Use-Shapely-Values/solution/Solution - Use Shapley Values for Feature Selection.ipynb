{
 "cells": [
  {
   "cell_type": "code",
   "execution_count": 1,
   "id": "d0b1f242",
   "metadata": {},
   "outputs": [
    {
     "ename": "ModuleNotFoundError",
     "evalue": "No module named 'xgboost'",
     "output_type": "error",
     "traceback": [
      "\u001b[0;31m---------------------------------------------------------------------------\u001b[0m",
      "\u001b[0;31mModuleNotFoundError\u001b[0m                       Traceback (most recent call last)",
      "Cell \u001b[0;32mIn[1], line 3\u001b[0m\n\u001b[1;32m      1\u001b[0m \u001b[38;5;66;03m# !pip install xgboost\u001b[39;00m\n\u001b[1;32m      2\u001b[0m \u001b[38;5;66;03m# !pip install shap\u001b[39;00m\n\u001b[0;32m----> 3\u001b[0m \u001b[38;5;28;01mimport\u001b[39;00m \u001b[38;5;21;01mxgboost\u001b[39;00m\n\u001b[1;32m      4\u001b[0m \u001b[38;5;28;01mfrom\u001b[39;00m \u001b[38;5;21;01msklearn\u001b[39;00m\u001b[38;5;21;01m.\u001b[39;00m\u001b[38;5;21;01mdatasets\u001b[39;00m \u001b[38;5;28;01mimport\u001b[39;00m load_wine\n\u001b[1;32m      5\u001b[0m \u001b[38;5;28;01mimport\u001b[39;00m \u001b[38;5;21;01mshap\u001b[39;00m\n",
      "\u001b[0;31mModuleNotFoundError\u001b[0m: No module named 'xgboost'"
     ]
    }
   ],
   "source": [
    "# !pip install xgboost\n",
    "# !pip install shap\n",
    "import xgboost\n",
    "from sklearn.datasets import load_wine\n",
    "import shap\n",
    "import pandas as pd\n",
    "\n",
    "# Load the Wine dataset\n",
    "# We will train a classifier to determine whether a given wine falls into one of three categories.\n",
    "wine_data = load_wine()\n",
    "\n",
    "# Set the features and targets of the wine dataset\n",
    "X = pd.DataFrame(data=wine_data.data, columns=wine_data.feature_names)\n",
    "y = wine_data.target\n",
    "\n",
    "# Establish the baseline sample and appropriate index\n",
    "X100 = shap.utils.sample(X, 100)\n",
    "sample_ind = 20\n",
    "xg_boost_model = xgboost.XGBRegressor(n_estimators=10, max_depth=3).fit(X, y)\n",
    "\n",
    "# explain the model with SHAP values\n",
    "explainer_xgb = shap.Explainer(xg_boost_model, X100)\n",
    "shap_values_xgb = explainer_xgb(X)\n",
    "\n",
    "shap.plots.waterfall(shap_values_xgb[sample_ind])"
   ]
  },
  {
   "cell_type": "markdown",
   "id": "8bfa3f90",
   "metadata": {},
   "source": [
    "<b> Given the plot shown above, list the most important features for our wine classification model: </b>"
   ]
  }
 ],
 "metadata": {
  "kernelspec": {
   "display_name": "Python 3 (ipykernel)",
   "language": "python",
   "name": "python3"
  },
  "language_info": {
   "codemirror_mode": {
    "name": "ipython",
    "version": 3
   },
   "file_extension": ".py",
   "mimetype": "text/x-python",
   "name": "python",
   "nbconvert_exporter": "python",
   "pygments_lexer": "ipython3",
   "version": "3.10.13"
  }
 },
 "nbformat": 4,
 "nbformat_minor": 5
}
