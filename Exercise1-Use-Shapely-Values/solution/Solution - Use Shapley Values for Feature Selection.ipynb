{
 "cells": [
  {
   "cell_type": "code",
   "execution_count": null,
   "id": "d0b1f242",
   "metadata": {},
   "outputs": [],
   "source": [
    "# !pip install xgboost\n",
    "# !pip install shap\n",
    "import xgboost\n",
    "from sklearn.datasets import load_wine\n",
    "import shap\n",
    "import pandas as pd\n",
    "\n",
    "# Load the Wine dataset\n",
    "# We will train a classifier to determine whether a given wine falls into one of three categories.\n",
    "wine_data = load_wine()\n",
    "\n",
    "# Set the features and targets of the wine dataset\n",
    "X = pd.DataFrame(data=wine_data.data, columns=wine_data.feature_names)\n",
    "y = wine_data.target\n",
    "\n",
    "# Establish the baseline sample and appropriate index\n",
    "X100 = shap.utils.sample(X, 100)\n",
    "sample_ind = 20\n",
    "xg_boost_model = xgboost.XGBRegressor(n_estimators=10, max_depth=3).fit(X, y)\n",
    "\n",
    "# explain the model with SHAP values\n",
    "explainer_xgb = shap.Explainer(xg_boost_model, X100)\n",
    "shap_values_xgb = explainer_xgb(X)\n",
    "\n",
    "shap.plots.waterfall(shap_values_xgb[sample_ind])"
   ]
  },
  {
   "cell_type": "markdown",
   "id": "8bfa3f90",
   "metadata": {},
   "source": [
    "<b> Given the plot shown above, list the most important features for our wine classification model: </b>"
   ]
  }
 ],
 "metadata": {
  "kernelspec": {
   "display_name": "Python 3 (ipykernel)",
   "language": "python",
   "name": "python3"
  },
  "language_info": {
   "codemirror_mode": {
    "name": "ipython",
    "version": 3
   },
   "file_extension": ".py",
   "mimetype": "text/x-python",
   "name": "python",
   "nbconvert_exporter": "python",
   "pygments_lexer": "ipython3",
   "version": "3.10.13"
  }
 },
 "nbformat": 4,
 "nbformat_minor": 5
}
